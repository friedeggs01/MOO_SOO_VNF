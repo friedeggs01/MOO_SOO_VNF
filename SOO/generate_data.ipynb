{
 "cells": [
  {
   "cell_type": "code",
   "execution_count": 2,
   "metadata": {},
   "outputs": [],
   "source": [
    "import numpy as np\n",
    "import os, tqdm, glob\n",
    "import shutil\n",
    "import copy"
   ]
  },
  {
   "cell_type": "code",
   "execution_count": 3,
   "metadata": {},
   "outputs": [],
   "source": [
    "dataset_path = \"./data/\"\n",
    "output_path = \"./data_with_delay/\"\n",
    "os.makedirs(output_path, exist_ok=True)\n",
    "\n",
    "min_delay, max_delay = 200, 500"
   ]
  },
  {
   "cell_type": "code",
   "execution_count": 4,
   "metadata": {},
   "outputs": [],
   "source": [
    "for data_name in os.listdir(dataset_path):\n",
    "    data_path = os.path.join(dataset_path, data_name)\n",
    "    \n",
    "    # create new dir\n",
    "    os.makedirs(os.path.join(output_path, data_name), exist_ok=True)\n",
    "\n",
    "    # copy request\n",
    "    shutil.copy(f\"{data_path}/request10.txt\", f\"{output_path}/{data_name}/request10.txt\")\n",
    "    shutil.copy(f\"{data_path}/request20.txt\", f\"{output_path}/{data_name}/request20.txt\")\n",
    "    shutil.copy(f\"{data_path}/request30.txt\", f\"{output_path}/{data_name}/request30.txt\")\n",
    "\n",
    "    f1 = open(f\"{data_path}/input.txt\", \"r\")\n",
    "    lines = f1.read().splitlines()\n",
    "    f1.close()\n",
    "\n",
    "    new_lines = []\n",
    "    f2 = open(f\"{output_path}/{data_name}/input.txt\", \"w\")\n",
    "    \n",
    "    new_lines = copy.deepcopy(lines)\n",
    "    num_nodes = int(lines[1])\n",
    "    for id in range(2, 2+num_nodes):\n",
    "        line = lines[id].strip().split()\n",
    "        line = [int(l) for l in line]\n",
    "        line.insert(1, np.random.randint(min_delay, max_delay))\n",
    "        new_lines[id] = \" \".join(list(map(str, line)))\n",
    "\n",
    "    num_links = int(lines[2+num_nodes])\n",
    "    for id in range(3+num_nodes, 3+num_nodes+num_links):\n",
    "        line = lines[id].strip().split()\n",
    "        line.append(np.random.randint(min_delay, max_delay))\n",
    "        new_lines[id] = \" \".join(list(map(str, line)))\n",
    "\n",
    "    for line in new_lines:\n",
    "        f2.write(line + \"\\n\")\n",
    "    \n",
    "    f2.close()"
   ]
  },
  {
   "attachments": {},
   "cell_type": "markdown",
   "metadata": {},
   "source": [
    "# Change filenames"
   ]
  },
  {
   "cell_type": "code",
   "execution_count": 1,
   "metadata": {},
   "outputs": [],
   "source": [
    "import os, glob, shutil"
   ]
  },
  {
   "cell_type": "code",
   "execution_count": 2,
   "metadata": {},
   "outputs": [],
   "source": [
    "name = []\n",
    "for topo in ['cogent','conus','nsf']:\n",
    "    for d in ['center','rural','uniform','urban']:\n",
    "        for i in range(5):\n",
    "            name.append(f\"{topo}_{d}_{i}\")"
   ]
  },
  {
   "cell_type": "code",
   "execution_count": 4,
   "metadata": {},
   "outputs": [],
   "source": [
    "os.makedirs(\"./dataset\", exist_ok=True)\n",
    "for idx, ins in enumerate(sorted(glob.glob(\"./data_with_delay_v2/*\"))):\n",
    "    shutil.copytree(ins, f\"./dataset/{name[idx]}\")"
   ]
  },
  {
   "attachments": {},
   "cell_type": "markdown",
   "metadata": {},
   "source": [
    "# Something"
   ]
  },
  {
   "cell_type": "code",
   "execution_count": 1,
   "metadata": {},
   "outputs": [],
   "source": [
    "import pandas as pd\n",
    "import numpy as np\n",
    "\n",
    "import os"
   ]
  },
  {
   "cell_type": "code",
   "execution_count": 6,
   "metadata": {},
   "outputs": [],
   "source": [
    "topos = []\n",
    "dis = []\n",
    "re = []\n",
    "name = []\n",
    "for topo in ['cogent','conus','nsf']:\n",
    "    for d in ['center','rural','uniform','urban']:\n",
    "        for i in range(5):\n",
    "            for r in range(3):\n",
    "                topos.append(topo)\n",
    "                dis.append(d)\n",
    "                re.append((r+1)*10)\n",
    "                name.append(f\"{topo}_{d}_{i}_{(r+1)*10}request\")\n",
    "\n",
    "df = pd.DataFrame({\"Name\":name, \"Topology\": topos, \"Distribution\": dis, \"Requests\": re})\n",
    "df.to_csv(\"./name.csv\", index=False)"
   ]
  }
 ],
 "metadata": {
  "kernelspec": {
   "display_name": "deeplearning",
   "language": "python",
   "name": "python3"
  },
  "language_info": {
   "codemirror_mode": {
    "name": "ipython",
    "version": 3
   },
   "file_extension": ".py",
   "mimetype": "text/x-python",
   "name": "python",
   "nbconvert_exporter": "python",
   "pygments_lexer": "ipython3",
   "version": "3.10.6"
  },
  "orig_nbformat": 4,
  "vscode": {
   "interpreter": {
    "hash": "7b32ed52d936ecdff22f8dec86860964654293a853e50a9b1a404c5912a914eb"
   }
  }
 },
 "nbformat": 4,
 "nbformat_minor": 2
}
